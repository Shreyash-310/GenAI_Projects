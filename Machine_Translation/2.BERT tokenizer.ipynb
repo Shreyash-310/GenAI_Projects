{
 "cells": [
  {
   "cell_type": "markdown",
   "id": "f4c6119a",
   "metadata": {},
   "source": [
    "This code demonstrates the BERT tokenizer function.<br>\n",
    "Input: A sentence is considered and encoded using BertTokenizer.from_pretrained model."
   ]
  },
  {
   "cell_type": "code",
   "execution_count": 11,
   "id": "f46acce6",
   "metadata": {},
   "outputs": [],
   "source": [
    "# Import tokenizer from transformers package\n",
    "from transformers import BertTokenizer\n",
    "\n",
    "# Load the tokenizer of the \"bert-base-cased\" pretrained model\n",
    "\n",
    "tz = BertTokenizer.from_pretrained(\"bert-base-cased\")\n",
    "\n",
    "# The senetence to be encoded\n",
    "sent = \"Infosys is the second largest company in India!\"\n",
    "\n",
    "# Encode the sentence\n",
    "encoded = tz.encode_plus(\n",
    "    text=sent,  # the sentence to be encoded\n",
    "    add_special_tokens=True,  # Add [CLS] and [SEP]\n",
    "    max_length = 64,  # maximum length of a sentence\n",
    "    pad_to_max_length=True,  # Add [PAD]s\n",
    "    return_attention_mask = True,  # Generate the attention mask\n",
    "    return_tensors = 'pt',  # ask the function to return PyTorch tensors\n",
    "    truncation=True\n",
    ")\n",
    "\n",
    "# Get the input IDs and attention mask in tensor format\n",
    "input_ids = encoded['input_ids']\n",
    "attn_mask = encoded['attention_mask']"
   ]
  },
  {
   "cell_type": "code",
   "execution_count": 12,
   "id": "1aae7cad",
   "metadata": {},
   "outputs": [
    {
     "name": "stdout",
     "output_type": "stream",
     "text": [
      "tensor([[  101,  1130, 14467,  5821,  1116,  1110,  1103,  1248,  2026,  1419,\n",
      "          1107,  1726,   106,   102,     0,     0,     0,     0,     0,     0,\n",
      "             0,     0,     0,     0,     0,     0,     0,     0,     0,     0,\n",
      "             0,     0,     0,     0,     0,     0,     0,     0,     0,     0,\n",
      "             0,     0,     0,     0,     0,     0,     0,     0,     0,     0,\n",
      "             0,     0,     0,     0,     0,     0,     0,     0,     0,     0,\n",
      "             0,     0,     0,     0]])\n"
     ]
    }
   ],
   "source": [
    "print(input_ids)"
   ]
  },
  {
   "cell_type": "code",
   "execution_count": 13,
   "id": "2edcde62",
   "metadata": {},
   "outputs": [
    {
     "name": "stdout",
     "output_type": "stream",
     "text": [
      "tensor([[1, 1, 1, 1, 1, 1, 1, 1, 1, 1, 1, 1, 1, 1, 0, 0, 0, 0, 0, 0, 0, 0, 0, 0,\n",
      "         0, 0, 0, 0, 0, 0, 0, 0, 0, 0, 0, 0, 0, 0, 0, 0, 0, 0, 0, 0, 0, 0, 0, 0,\n",
      "         0, 0, 0, 0, 0, 0, 0, 0, 0, 0, 0, 0, 0, 0, 0, 0]])\n"
     ]
    }
   ],
   "source": [
    "print(attn_mask)"
   ]
  },
  {
   "cell_type": "code",
   "execution_count": null,
   "id": "d6a2cfae",
   "metadata": {},
   "outputs": [],
   "source": []
  }
 ],
 "metadata": {
  "kernelspec": {
   "display_name": "Python 3",
   "language": "python",
   "name": "python3"
  },
  "language_info": {
   "codemirror_mode": {
    "name": "ipython",
    "version": 3
   },
   "file_extension": ".py",
   "mimetype": "text/x-python",
   "name": "python",
   "nbconvert_exporter": "python",
   "pygments_lexer": "ipython3",
   "version": "3.6.13"
  }
 },
 "nbformat": 4,
 "nbformat_minor": 5
}
