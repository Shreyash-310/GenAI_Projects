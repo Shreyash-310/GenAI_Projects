{
 "cells": [
  {
   "cell_type": "markdown",
   "metadata": {},
   "source": [
    "### Level 1: Character Splitting"
   ]
  },
  {
   "cell_type": "code",
   "execution_count": 1,
   "metadata": {},
   "outputs": [],
   "source": [
    "text = \"This is the text I would like to chunk up. It is the example text for this exercose.\""
   ]
  },
  {
   "cell_type": "code",
   "execution_count": 2,
   "metadata": {},
   "outputs": [
    {
     "data": {
      "text/plain": [
       "['This is the text I would like to ch',\n",
       " 'unk up. It is the example text for ',\n",
       " 'this exercose.']"
      ]
     },
     "execution_count": 2,
     "metadata": {},
     "output_type": "execute_result"
    }
   ],
   "source": [
    "chunks = []\n",
    "\n",
    "chunk_size = 35 # characters\n",
    "\n",
    "for i in range(0, len(text), chunk_size):\n",
    "    chunk = text[i:i+chunk_size]\n",
    "    chunks.append(chunk)\n",
    "\n",
    "chunks"
   ]
  },
  {
   "cell_type": "markdown",
   "metadata": {},
   "source": [
    "using langchain"
   ]
  },
  {
   "cell_type": "code",
   "execution_count": 3,
   "metadata": {},
   "outputs": [],
   "source": [
    "from langchain.text_splitter import CharacterTextSplitter"
   ]
  },
  {
   "cell_type": "code",
   "execution_count": 4,
   "metadata": {},
   "outputs": [],
   "source": [
    "text_splitter = CharacterTextSplitter(chunk_size=35, chunk_overlap=0, separator='', strip_whitespace=False)"
   ]
  },
  {
   "cell_type": "code",
   "execution_count": 5,
   "metadata": {},
   "outputs": [
    {
     "data": {
      "text/plain": [
       "[Document(metadata={}, page_content='This is the text I would like to ch'),\n",
       " Document(metadata={}, page_content='unk up. It is the example text for '),\n",
       " Document(metadata={}, page_content='this exercose.')]"
      ]
     },
     "execution_count": 5,
     "metadata": {},
     "output_type": "execute_result"
    }
   ],
   "source": [
    "text_splitter.create_documents([text])"
   ]
  },
  {
   "cell_type": "code",
   "execution_count": 6,
   "metadata": {},
   "outputs": [],
   "source": [
    "text_splitter = CharacterTextSplitter(chunk_size=35, chunk_overlap=4, separator='')"
   ]
  },
  {
   "cell_type": "code",
   "execution_count": 7,
   "metadata": {},
   "outputs": [
    {
     "data": {
      "text/plain": [
       "[Document(metadata={}, page_content='This is the text I would like to ch'),\n",
       " Document(metadata={}, page_content='o chunk up. It is the example text'),\n",
       " Document(metadata={}, page_content='ext for this exercose.')]"
      ]
     },
     "execution_count": 7,
     "metadata": {},
     "output_type": "execute_result"
    }
   ],
   "source": [
    "text_splitter.create_documents([text])"
   ]
  },
  {
   "cell_type": "code",
   "execution_count": 8,
   "metadata": {},
   "outputs": [
    {
     "data": {
      "text/plain": [
       "[Document(metadata={}, page_content='This is the text I would like to'),\n",
       " Document(metadata={}, page_content='unk up. It is the example text for this exercose.')]"
      ]
     },
     "execution_count": 8,
     "metadata": {},
     "output_type": "execute_result"
    }
   ],
   "source": [
    "text_splitter = CharacterTextSplitter(chunk_size=35, chunk_overlap=4, separator='ch')\n",
    "text_splitter.create_documents([text])"
   ]
  },
  {
   "cell_type": "markdown",
   "metadata": {},
   "source": [
    "### 2. Recursive Charcter Text Splitting"
   ]
  },
  {
   "cell_type": "code",
   "execution_count": 11,
   "metadata": {},
   "outputs": [],
   "source": [
    "from langchain.text_splitter import RecursiveCharacterTextSplitter"
   ]
  },
  {
   "cell_type": "code",
   "execution_count": 24,
   "metadata": {},
   "outputs": [],
   "source": [
    "text = \"\"\"Recurrent neural networks, long short-term memory and gated recurrent neural networks in particular, have been firmly established as state of the art approaches in sequence modeling and transduction problems such as language modeling and machine translation. Numerous efforts have since continued to push the boundaries of recurrent language models and encoder-decoder architectures.\n",
    "\n",
    "Recurrent models typically factor computation along the symbol positions of the input and output sequences. Aligning the positions to steps in computation time, they generate a sequence of hidden states ht, as a function of the previous hidden state ht−1 and the input for position t. This inherently sequential nature precludes parallelization within training examples, which becomes critical at longer sequence lengths, as memory constraints limit batching across examples. Recent work has achieved significant improvements in computational efficiency through factorization tricks and conditional computation while also improving model performance in case of the latter. The fundamental constraint of sequential computation, however, remains.\n",
    "\n",
    "Attention mechanisms have become an integral part of compelling sequence modeling and transduction models in various tasks, allowing modeling of dependencies without regard to their distance in the input or output sequences. In all but a few cases however, such attention mechanisms are used in conjunction with a recurrent network.\n",
    "\n",
    "In this work we propose the Transformer, a model architecture eschewing recurrence and instead relying entirely on an attention mechanism to draw global dependencies between input and output. The Transformer allows for significantly more parallelization and can reach a new state of the art in translation quality after being trained for as little as twelve hours on eight P100 GPUs.\"\"\""
   ]
  },
  {
   "cell_type": "code",
   "execution_count": 25,
   "metadata": {},
   "outputs": [
    {
     "data": {
      "text/plain": [
       "[Document(metadata={}, page_content='Recurrent neural networks, long short-term memory and gated'),\n",
       " Document(metadata={}, page_content='recurrent neural networks in particular, have been firmly'),\n",
       " Document(metadata={}, page_content='established as state of the art approaches in sequence modeling'),\n",
       " Document(metadata={}, page_content='and transduction problems such as language modeling and machine'),\n",
       " Document(metadata={}, page_content='translation. Numerous efforts have since continued to push the'),\n",
       " Document(metadata={}, page_content='boundaries of recurrent language models and encoder-decoder'),\n",
       " Document(metadata={}, page_content='architectures.'),\n",
       " Document(metadata={}, page_content='Recurrent models typically factor computation along the symbol'),\n",
       " Document(metadata={}, page_content='positions of the input and output sequences. Aligning the'),\n",
       " Document(metadata={}, page_content='positions to steps in computation time, they generate a sequence'),\n",
       " Document(metadata={}, page_content='of hidden states ht, as a function of the previous hidden state'),\n",
       " Document(metadata={}, page_content='ht−1 and the input for position t. This inherently sequential'),\n",
       " Document(metadata={}, page_content='nature precludes parallelization within training examples, which'),\n",
       " Document(metadata={}, page_content='becomes critical at longer sequence lengths, as memory'),\n",
       " Document(metadata={}, page_content='constraints limit batching across examples. Recent work has'),\n",
       " Document(metadata={}, page_content='achieved significant improvements in computational efficiency'),\n",
       " Document(metadata={}, page_content='through factorization tricks and conditional computation while'),\n",
       " Document(metadata={}, page_content='also improving model performance in case of the latter. The'),\n",
       " Document(metadata={}, page_content='fundamental constraint of sequential computation, however,'),\n",
       " Document(metadata={}, page_content='remains.'),\n",
       " Document(metadata={}, page_content='Attention mechanisms have become an integral part of compelling'),\n",
       " Document(metadata={}, page_content='sequence modeling and transduction models in various tasks,'),\n",
       " Document(metadata={}, page_content='allowing modeling of dependencies without regard to their'),\n",
       " Document(metadata={}, page_content='distance in the input or output sequences. In all but a few'),\n",
       " Document(metadata={}, page_content='cases however, such attention mechanisms are used in conjunction'),\n",
       " Document(metadata={}, page_content='with a recurrent network.'),\n",
       " Document(metadata={}, page_content='In this work we propose the Transformer, a model architecture'),\n",
       " Document(metadata={}, page_content='eschewing recurrence and instead relying entirely on an'),\n",
       " Document(metadata={}, page_content='attention mechanism to draw global dependencies between input'),\n",
       " Document(metadata={}, page_content='and output. The Transformer allows for significantly more'),\n",
       " Document(metadata={}, page_content='parallelization and can reach a new state of the art in'),\n",
       " Document(metadata={}, page_content='translation quality after being trained for as little as twelve'),\n",
       " Document(metadata={}, page_content='hours on eight P100 GPUs.')]"
      ]
     },
     "execution_count": 25,
     "metadata": {},
     "output_type": "execute_result"
    }
   ],
   "source": [
    "text_splitter = RecursiveCharacterTextSplitter(chunk_size=65, chunk_overlap=0)\n",
    "text_splitter.create_documents([text])"
   ]
  },
  {
   "cell_type": "code",
   "execution_count": 31,
   "metadata": {},
   "outputs": [
    {
     "data": {
      "text/plain": [
       "[Document(metadata={}, page_content='Recurrent neural networks, long short-term memory and gated recurrent neural networks in particular, have been firmly established as state of the art approaches in sequence modeling and transduction problems such as language modeling and machine translation. Numerous efforts have since continued to push the boundaries of recurrent language models and encoder-decoder architectures.'),\n",
       " Document(metadata={}, page_content='Recurrent models typically factor computation along the symbol positions of the input and output sequences. Aligning the positions to steps in computation time, they generate a sequence of hidden states ht, as a function of the previous hidden state ht−1 and the input for position t. This inherently sequential nature precludes parallelization within training examples, which becomes critical at longer sequence lengths, as memory constraints limit batching across examples. Recent work has achieved significant improvements in computational efficiency through factorization tricks and conditional computation while also improving model performance'),\n",
       " Document(metadata={}, page_content='in case of the latter. The fundamental constraint of sequential computation, however, remains.'),\n",
       " Document(metadata={}, page_content='Attention mechanisms have become an integral part of compelling sequence modeling and transduction models in various tasks, allowing modeling of dependencies without regard to their distance in the input or output sequences. In all but a few cases however, such attention mechanisms are used in conjunction with a recurrent network.'),\n",
       " Document(metadata={}, page_content='In this work we propose the Transformer, a model architecture eschewing recurrence and instead relying entirely on an attention mechanism to draw global dependencies between input and output. The Transformer allows for significantly more parallelization and can reach a new state of the art in translation quality after being trained for as little as twelve hours on eight P100 GPUs.')]"
      ]
     },
     "execution_count": 31,
     "metadata": {},
     "output_type": "execute_result"
    }
   ],
   "source": [
    "text_splitter = RecursiveCharacterTextSplitter(chunk_size=650, chunk_overlap=0)\n",
    "text_splitter.create_documents([text])"
   ]
  },
  {
   "cell_type": "markdown",
   "metadata": {},
   "source": [
    "### Level 3: Document Specific Splitting"
   ]
  },
  {
   "cell_type": "code",
   "execution_count": null,
   "metadata": {},
   "outputs": [],
   "source": []
  }
 ],
 "metadata": {
  "kernelspec": {
   "display_name": "env_RAG",
   "language": "python",
   "name": "python3"
  },
  "language_info": {
   "codemirror_mode": {
    "name": "ipython",
    "version": 3
   },
   "file_extension": ".py",
   "mimetype": "text/x-python",
   "name": "python",
   "nbconvert_exporter": "python",
   "pygments_lexer": "ipython3",
   "version": "3.12.8"
  }
 },
 "nbformat": 4,
 "nbformat_minor": 2
}
