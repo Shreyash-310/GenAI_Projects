{
 "cells": [
  {
   "cell_type": "markdown",
   "id": "e945cb31",
   "metadata": {},
   "source": [
    "## <font color=indigo><u> Use Case -  Optimizing news search experience with OpenAI embeddings on the Azure platform"
   ]
  },
  {
   "cell_type": "markdown",
   "id": "13680fef",
   "metadata": {},
   "source": [
    "### <font color=brown><b> Prerequisites\n",
    "- An Azure subscription \n",
    "- Python 3.7.1 or later version\n",
    "- Python libraries: openai, num2words, matplotlib, plotly, scipy, scikit-learn, pandas, tiktoken.\n",
    "- Jupyter Notebooks\n",
    "- An Azure OpenAI resource with the text-embedding-ada-002 (Version 2) model deployed. "
   ]
  },
  {
   "cell_type": "markdown",
   "id": "5f5569db",
   "metadata": {},
   "source": [
    "### <font color=brown><b> Build framework"
   ]
  },
  {
   "cell_type": "markdown",
   "id": "02a5ca04",
   "metadata": {},
   "source": [
    "#### <font color=blue><b>1. Python Libraries "
   ]
  },
  {
   "cell_type": "code",
   "execution_count": 1,
   "id": "3fbcaa0f",
   "metadata": {},
   "outputs": [],
   "source": [
    "#pip install openai "
   ]
  },
  {
   "cell_type": "code",
   "execution_count": 2,
   "id": "cff79046",
   "metadata": {},
   "outputs": [],
   "source": [
    "#pip install num2words matplotlib plotly scipy scikit-learn pandas tiktoken"
   ]
  },
  {
   "cell_type": "markdown",
   "id": "c0d66e42",
   "metadata": {},
   "source": [
    "#### <font color=blue><b>2. Create Environment"
   ]
  },
  {
   "cell_type": "markdown",
   "id": "4e935be8",
   "metadata": {},
   "source": [
    "##### <font color=indigo>Make a call with Azure OpenAI using endpoint and a key.\n",
    "    \n",
    "- Generate and allocate persistent environment variable for your key and endpoint.  \n",
    "    \n",
    "\n",
    "   \n"
   ]
  },
  {
   "attachments": {
    "KEYS%20&%20ENDPOINT_4.png": {
     "image/png": "[encoded data removed]"
    }
   },
   "cell_type": "markdown",
   "id": "dc89bc71",
   "metadata": {},
   "source": [
    "![KEYS%20&%20ENDPOINT_4.png](attachment:KEYS%20&%20ENDPOINT_4.png)"
   ]
  },
  {
   "cell_type": "markdown",
   "id": "a4bac28d",
   "metadata": {},
   "source": [
    "### <font color=brown><b> Import libraries and model"
   ]
  },
  {
   "cell_type": "code",
   "execution_count": 3,
   "id": "fbc25a66",
   "metadata": {},
   "outputs": [],
   "source": [
    "import openai\n",
    "import os\n",
    "import re\n",
    "import requests\n",
    "import sys\n",
    "from num2words import num2words\n",
    "import os\n",
    "import pandas as pd\n",
    "import numpy as np\n",
    "from openai.embeddings_utils import get_embedding, cosine_similarity\n",
    "import tiktoken\n"
   ]
  },
  {
   "cell_type": "code",
   "execution_count": 4,
   "id": "56867d1e",
   "metadata": {},
   "outputs": [],
   "source": [
    "\n",
    "API_KEY = os.getenv(\"AZURE_OPENAI_API_KEY\") \n",
    "RESOURCE_ENDPOINT = os.getenv(\"AZURE_OPENAI_ENDPOINT\") \n",
    "\n",
    "openai.api_type = \"azure\"\n",
    "openai.api_key = API_KEY\n",
    "openai.api_base = RESOURCE_ENDPOINT \n",
    "openai.api_type = 'azure'\n",
    "openai.api_version = \"2022-12-01\" #this may change in the future\n",
    "\n",
    "url = openai.api_base + \"/openai/deployments?api-version=2022-12-01\"\n",
    "\n",
    "r = requests.get(url, headers={\"api-key\": API_KEY}) \n",
    "\n"
   ]
  },
  {
   "cell_type": "code",
   "execution_count": 5,
   "id": "33e15dd4",
   "metadata": {},
   "outputs": [
    {
     "name": "stdout",
     "output_type": "stream",
     "text": [
      "{\n",
      "  \"data\": [\n",
      "    {\n",
      "      \"scale_settings\": {\n",
      "        \"scale_type\": \"standard\"\n",
      "      },\n",
      "      \"model\": \"text-embedding-ada-002\",\n",
      "      \"owner\": \"organization-owner\",\n",
      "      \"id\": \"Embedding_Model1\",\n",
      "      \"status\": \"succeeded\",\n",
      "      \"created_at\": 1682511416,\n",
      "      \"updated_at\": 1682511416,\n",
      "      \"object\": \"deployment\"\n",
      "    },\n",
      "    {\n",
      "      \"scale_settings\": {\n",
      "        \"scale_type\": \"standard\"\n",
      "      },\n",
      "      \"model\": \"code-davinci-002\",\n",
      "      \"owner\": \"organization-owner\",\n",
      "      \"id\": \"ex\",\n",
      "      \"status\": \"succeeded\",\n",
      "      \"created_at\": 1682605546,\n",
      "      \"updated_at\": 1682605546,\n",
      "      \"object\": \"deployment\"\n",
      "    },\n",
      "    {\n",
      "      \"scale_settings\": {\n",
      "        \"scale_type\": \"standard\"\n",
      "      },\n",
      "      \"model\": \"gpt-35-turbo\",\n",
      "      \"owner\": \"organization-owner\",\n",
      "      \"id\": \"ChatAPI\",\n",
      "      \"status\": \"succeeded\",\n",
      "      \"created_at\": 1686507525,\n",
      "      \"updated_at\": 1686507525,\n",
      "      \"object\": \"deployment\"\n",
      "    },\n",
      "    {\n",
      "      \"scale_settings\": {\n",
      "        \"scale_type\": \"standard\"\n",
      "      },\n",
      "      \"model\": \"text-davinci-003\",\n",
      "      \"owner\": \"organization-owner\",\n",
      "      \"id\": \"DeployModel\",\n",
      "      \"status\": \"succeeded\",\n",
      "      \"created_at\": 1689939780,\n",
      "      \"updated_at\": 1689939780,\n",
      "      \"object\": \"deployment\"\n",
      "    }\n",
      "  ],\n",
      "  \"object\": \"list\"\n",
      "}\n"
     ]
    }
   ],
   "source": [
    "print(r.text)"
   ]
  },
  {
   "cell_type": "markdown",
   "id": "d2c46af4",
   "metadata": {},
   "source": [
    " ### <font color=brown><b> Read csv file and create a pandas DataFrame"
   ]
  },
  {
   "cell_type": "code",
   "execution_count": 6,
   "id": "7a489f92",
   "metadata": {},
   "outputs": [
    {
     "data": {
      "text/html": [
       "<div>\n",
       "<style scoped>\n",
       "    .dataframe tbody tr th:only-of-type {\n",
       "        vertical-align: middle;\n",
       "    }\n",
       "\n",
       "    .dataframe tbody tr th {\n",
       "        vertical-align: top;\n",
       "    }\n",
       "\n",
       "    .dataframe thead th {\n",
       "        text-align: right;\n",
       "    }\n",
       "</style>\n",
       "<table border=\"1\" class=\"dataframe\">\n",
       "  <thead>\n",
       "    <tr style=\"text-align: right;\">\n",
       "      <th></th>\n",
       "      <th>publish_date</th>\n",
       "      <th>headline_category</th>\n",
       "      <th>headline_text</th>\n",
       "    </tr>\n",
       "  </thead>\n",
       "  <tbody>\n",
       "    <tr>\n",
       "      <th>0</th>\n",
       "      <td>20210912</td>\n",
       "      <td>sports.tennis.us-open</td>\n",
       "      <td>Britain's Emma Raducanu; 18; beats Canada's Le...</td>\n",
       "    </tr>\n",
       "    <tr>\n",
       "      <th>1</th>\n",
       "      <td>20210913</td>\n",
       "      <td>sports.tennis.us-open</td>\n",
       "      <td>Tennis: De Groot claims first wheelchair golde...</td>\n",
       "    </tr>\n",
       "    <tr>\n",
       "      <th>2</th>\n",
       "      <td>20210913</td>\n",
       "      <td>sports.tennis.us-open</td>\n",
       "      <td>Daniil Medvedev ends Novak Djokovic's bid for ...</td>\n",
       "    </tr>\n",
       "    <tr>\n",
       "      <th>3</th>\n",
       "      <td>20210917</td>\n",
       "      <td>sports.cricket.icc-mens-t20-world-cup</td>\n",
       "      <td>It's official: Virat Kohli to quit as India's ...</td>\n",
       "    </tr>\n",
       "    <tr>\n",
       "      <th>4</th>\n",
       "      <td>20210919</td>\n",
       "      <td>sports.off-the-field</td>\n",
       "      <td>Tokyo Olympics silver medallist Ravi Kumar Dah...</td>\n",
       "    </tr>\n",
       "    <tr>\n",
       "      <th>...</th>\n",
       "      <td>...</td>\n",
       "      <td>...</td>\n",
       "      <td>...</td>\n",
       "    </tr>\n",
       "    <tr>\n",
       "      <th>259</th>\n",
       "      <td>20220319</td>\n",
       "      <td>sports.golf</td>\n",
       "      <td>Shubhankar Sharma shoots under par in both rou...</td>\n",
       "    </tr>\n",
       "    <tr>\n",
       "      <th>260</th>\n",
       "      <td>20220319</td>\n",
       "      <td>sports.cricket.news</td>\n",
       "      <td>India vs Australia: Mithali Raj equals record ...</td>\n",
       "    </tr>\n",
       "    <tr>\n",
       "      <th>261</th>\n",
       "      <td>20220319</td>\n",
       "      <td>sports.cricket.ipl</td>\n",
       "      <td>IPL 2022: Shimron Hetmyer wants to pick Kumar ...</td>\n",
       "    </tr>\n",
       "    <tr>\n",
       "      <th>262</th>\n",
       "      <td>20220319</td>\n",
       "      <td>sports.cricket.news</td>\n",
       "      <td>ICC Women's World Cup: West Indies' Shamilia C...</td>\n",
       "    </tr>\n",
       "    <tr>\n",
       "      <th>263</th>\n",
       "      <td>20220329</td>\n",
       "      <td>sports.cricket.ipl</td>\n",
       "      <td>IPL 2022; Gujarat Titans vs Lucknow Super Gian...</td>\n",
       "    </tr>\n",
       "  </tbody>\n",
       "</table>\n",
       "<p>264 rows × 3 columns</p>\n",
       "</div>"
      ],
      "text/plain": [
       "     publish_date                      headline_category  \\\n",
       "0        20210912                  sports.tennis.us-open   \n",
       "1        20210913                  sports.tennis.us-open   \n",
       "2        20210913                  sports.tennis.us-open   \n",
       "3        20210917  sports.cricket.icc-mens-t20-world-cup   \n",
       "4        20210919                   sports.off-the-field   \n",
       "..            ...                                    ...   \n",
       "259      20220319                            sports.golf   \n",
       "260      20220319                    sports.cricket.news   \n",
       "261      20220319                     sports.cricket.ipl   \n",
       "262      20220319                    sports.cricket.news   \n",
       "263      20220329                     sports.cricket.ipl   \n",
       "\n",
       "                                         headline_text  \n",
       "0    Britain's Emma Raducanu; 18; beats Canada's Le...  \n",
       "1    Tennis: De Groot claims first wheelchair golde...  \n",
       "2    Daniil Medvedev ends Novak Djokovic's bid for ...  \n",
       "3    It's official: Virat Kohli to quit as India's ...  \n",
       "4    Tokyo Olympics silver medallist Ravi Kumar Dah...  \n",
       "..                                                 ...  \n",
       "259  Shubhankar Sharma shoots under par in both rou...  \n",
       "260  India vs Australia: Mithali Raj equals record ...  \n",
       "261  IPL 2022: Shimron Hetmyer wants to pick Kumar ...  \n",
       "262  ICC Women's World Cup: West Indies' Shamilia C...  \n",
       "263  IPL 2022; Gujarat Titans vs Lucknow Super Gian...  \n",
       "\n",
       "[264 rows x 3 columns]"
      ]
     },
     "execution_count": 6,
     "metadata": {},
     "output_type": "execute_result"
    }
   ],
   "source": [
    "df_news=pd.read_csv(os.path.join(os.getcwd(),'India_news_headline_V2.csv')) # This assumes that you have placed the India_news_headline_V1.csv in the same directory you are running Jupyter Notebooks\n",
    "df_news"
   ]
  },
  {
   "cell_type": "markdown",
   "id": "8b0633c8",
   "metadata": {},
   "source": [
    "### <font color=brown><b> Perform  data cleaning by removing redundant whitespace and cleaning up the punctuation (Optional) "
   ]
  },
  {
   "cell_type": "code",
   "execution_count": 7,
   "id": "a0fd4f4b",
   "metadata": {},
   "outputs": [],
   "source": [
    "pd.options.mode.chained_assignment = None #https://pandas.pydata.org/pandas-docs/stable/user_guide/indexing.html#evaluation-order-matters\n",
    "\n",
    "# s is input text\n",
    "def normalize_text(s, sep_token = \" \\n \"):\n",
    "    s = re.sub(r'\\s+',  ' ', s).strip()\n",
    "    s = re.sub(r\". ,\",\"\",s)\n",
    "    # remove all instances of multiple spaces\n",
    "    s = s.replace(\"..\",\".\")\n",
    "    s = s.replace(\". .\",\".\")\n",
    "    s = s.replace(\"\\n\", \"\")\n",
    "    s = s.replace(\";\", \"\")\n",
    "    s = s.replace(\"!\", \"\")\n",
    "    s = s.replace(\"#\", \"\")\n",
    "    s = s.strip()\n",
    "    \n",
    "    return s\n",
    "\n",
    "df_news['headline_text']= df_news[\"headline_text\"].apply(lambda x : normalize_text(x))"
   ]
  },
  {
   "cell_type": "markdown",
   "id": "8e72f197",
   "metadata": {},
   "source": [
    "### <font color=brown><b> Check df_news"
   ]
  },
  {
   "cell_type": "code",
   "execution_count": 8,
   "id": "84170ae7",
   "metadata": {},
   "outputs": [
    {
     "data": {
      "text/html": [
       "<div>\n",
       "<style scoped>\n",
       "    .dataframe tbody tr th:only-of-type {\n",
       "        vertical-align: middle;\n",
       "    }\n",
       "\n",
       "    .dataframe tbody tr th {\n",
       "        vertical-align: top;\n",
       "    }\n",
       "\n",
       "    .dataframe thead th {\n",
       "        text-align: right;\n",
       "    }\n",
       "</style>\n",
       "<table border=\"1\" class=\"dataframe\">\n",
       "  <thead>\n",
       "    <tr style=\"text-align: right;\">\n",
       "      <th></th>\n",
       "      <th>publish_date</th>\n",
       "      <th>headline_category</th>\n",
       "      <th>headline_text</th>\n",
       "    </tr>\n",
       "  </thead>\n",
       "  <tbody>\n",
       "    <tr>\n",
       "      <th>0</th>\n",
       "      <td>20210912</td>\n",
       "      <td>sports.tennis.us-open</td>\n",
       "      <td>Britain's Emma Raducanu 18 beats Canada's Leyl...</td>\n",
       "    </tr>\n",
       "    <tr>\n",
       "      <th>1</th>\n",
       "      <td>20210913</td>\n",
       "      <td>sports.tennis.us-open</td>\n",
       "      <td>Tennis: De Groot claims first wheelchair golde...</td>\n",
       "    </tr>\n",
       "    <tr>\n",
       "      <th>2</th>\n",
       "      <td>20210913</td>\n",
       "      <td>sports.tennis.us-open</td>\n",
       "      <td>Daniil Medvedev ends Novak Djokovic's bid for ...</td>\n",
       "    </tr>\n",
       "    <tr>\n",
       "      <th>3</th>\n",
       "      <td>20210917</td>\n",
       "      <td>sports.cricket.icc-mens-t20-world-cup</td>\n",
       "      <td>It's official: Virat Kohli to quit as India's ...</td>\n",
       "    </tr>\n",
       "    <tr>\n",
       "      <th>4</th>\n",
       "      <td>20210919</td>\n",
       "      <td>sports.off-the-field</td>\n",
       "      <td>Tokyo Olympics silver medallist Ravi Kumar Dah...</td>\n",
       "    </tr>\n",
       "    <tr>\n",
       "      <th>5</th>\n",
       "      <td>20210920</td>\n",
       "      <td>sports.cricket.ipl</td>\n",
       "      <td>IPL 2021: Ruturaj Gaikwad and Dwayne Bravo got...</td>\n",
       "    </tr>\n",
       "    <tr>\n",
       "      <th>6</th>\n",
       "      <td>20210920</td>\n",
       "      <td>sports.football</td>\n",
       "      <td>Pele 'punching the air' and getting 'better ev...</td>\n",
       "    </tr>\n",
       "    <tr>\n",
       "      <th>7</th>\n",
       "      <td>20210920</td>\n",
       "      <td>sports.tennis</td>\n",
       "      <td>Italy's Jasmine Paolini claims maiden WTA titl...</td>\n",
       "    </tr>\n",
       "    <tr>\n",
       "      <th>8</th>\n",
       "      <td>20210920</td>\n",
       "      <td>sports.more-sports.athletics</td>\n",
       "      <td>You'll see a lot of success coming out of Odis...</td>\n",
       "    </tr>\n",
       "    <tr>\n",
       "      <th>9</th>\n",
       "      <td>20210920</td>\n",
       "      <td>sports.cricket.ipl</td>\n",
       "      <td>IPL 2021: One of my top innings says Ruturaj G...</td>\n",
       "    </tr>\n",
       "  </tbody>\n",
       "</table>\n",
       "</div>"
      ],
      "text/plain": [
       "   publish_date                      headline_category  \\\n",
       "0      20210912                  sports.tennis.us-open   \n",
       "1      20210913                  sports.tennis.us-open   \n",
       "2      20210913                  sports.tennis.us-open   \n",
       "3      20210917  sports.cricket.icc-mens-t20-world-cup   \n",
       "4      20210919                   sports.off-the-field   \n",
       "5      20210920                     sports.cricket.ipl   \n",
       "6      20210920                        sports.football   \n",
       "7      20210920                          sports.tennis   \n",
       "8      20210920           sports.more-sports.athletics   \n",
       "9      20210920                     sports.cricket.ipl   \n",
       "\n",
       "                                       headline_text  \n",
       "0  Britain's Emma Raducanu 18 beats Canada's Leyl...  \n",
       "1  Tennis: De Groot claims first wheelchair golde...  \n",
       "2  Daniil Medvedev ends Novak Djokovic's bid for ...  \n",
       "3  It's official: Virat Kohli to quit as India's ...  \n",
       "4  Tokyo Olympics silver medallist Ravi Kumar Dah...  \n",
       "5  IPL 2021: Ruturaj Gaikwad and Dwayne Bravo got...  \n",
       "6  Pele 'punching the air' and getting 'better ev...  \n",
       "7  Italy's Jasmine Paolini claims maiden WTA titl...  \n",
       "8  You'll see a lot of success coming out of Odis...  \n",
       "9  IPL 2021: One of my top innings says Ruturaj G...  "
      ]
     },
     "execution_count": 8,
     "metadata": {},
     "output_type": "execute_result"
    }
   ],
   "source": [
    "df_news.head(10)"
   ]
  },
  {
   "cell_type": "markdown",
   "id": "0e9811ca",
   "metadata": {},
   "source": [
    "##### <font color=brown><u>Pass the documents to the embeddings model"
   ]
  },
  {
   "cell_type": "code",
   "execution_count": 9,
   "id": "cf2ea9ce",
   "metadata": {},
   "outputs": [],
   "source": [
    "df_news['ada_02'] = df_news[\"headline_text\"].apply(lambda x : get_embedding(x, engine = 'Embedding_Model1')) # engine should be set to the deployment name you chose when you deployed the text-embedding-ada-002 (Version 2) model"
   ]
  },
  {
   "cell_type": "code",
   "execution_count": 10,
   "id": "68d11823",
   "metadata": {},
   "outputs": [
    {
     "data": {
      "text/html": [
       "<div>\n",
       "<style scoped>\n",
       "    .dataframe tbody tr th:only-of-type {\n",
       "        vertical-align: middle;\n",
       "    }\n",
       "\n",
       "    .dataframe tbody tr th {\n",
       "        vertical-align: top;\n",
       "    }\n",
       "\n",
       "    .dataframe thead th {\n",
       "        text-align: right;\n",
       "    }\n",
       "</style>\n",
       "<table border=\"1\" class=\"dataframe\">\n",
       "  <thead>\n",
       "    <tr style=\"text-align: right;\">\n",
       "      <th></th>\n",
       "      <th>publish_date</th>\n",
       "      <th>headline_category</th>\n",
       "      <th>headline_text</th>\n",
       "      <th>ada_02</th>\n",
       "    </tr>\n",
       "  </thead>\n",
       "  <tbody>\n",
       "    <tr>\n",
       "      <th>0</th>\n",
       "      <td>20210912</td>\n",
       "      <td>sports.tennis.us-open</td>\n",
       "      <td>Britain's Emma Raducanu 18 beats Canada's Leyl...</td>\n",
       "      <td>[-0.020307641476392746, -0.008113071322441101,...</td>\n",
       "    </tr>\n",
       "    <tr>\n",
       "      <th>1</th>\n",
       "      <td>20210913</td>\n",
       "      <td>sports.tennis.us-open</td>\n",
       "      <td>Tennis: De Groot claims first wheelchair golde...</td>\n",
       "      <td>[-0.001497726421803236, -0.01388695277273655, ...</td>\n",
       "    </tr>\n",
       "    <tr>\n",
       "      <th>2</th>\n",
       "      <td>20210913</td>\n",
       "      <td>sports.tennis.us-open</td>\n",
       "      <td>Daniil Medvedev ends Novak Djokovic's bid for ...</td>\n",
       "      <td>[-0.02074730210006237, -0.007831976749002934, ...</td>\n",
       "    </tr>\n",
       "    <tr>\n",
       "      <th>3</th>\n",
       "      <td>20210917</td>\n",
       "      <td>sports.cricket.icc-mens-t20-world-cup</td>\n",
       "      <td>It's official: Virat Kohli to quit as India's ...</td>\n",
       "      <td>[-0.01351586077362299, -0.008026225492358208, ...</td>\n",
       "    </tr>\n",
       "    <tr>\n",
       "      <th>4</th>\n",
       "      <td>20210919</td>\n",
       "      <td>sports.off-the-field</td>\n",
       "      <td>Tokyo Olympics silver medallist Ravi Kumar Dah...</td>\n",
       "      <td>[-0.007898214273154736, 0.004959497135132551, ...</td>\n",
       "    </tr>\n",
       "  </tbody>\n",
       "</table>\n",
       "</div>"
      ],
      "text/plain": [
       "   publish_date                      headline_category  \\\n",
       "0      20210912                  sports.tennis.us-open   \n",
       "1      20210913                  sports.tennis.us-open   \n",
       "2      20210913                  sports.tennis.us-open   \n",
       "3      20210917  sports.cricket.icc-mens-t20-world-cup   \n",
       "4      20210919                   sports.off-the-field   \n",
       "\n",
       "                                       headline_text  \\\n",
       "0  Britain's Emma Raducanu 18 beats Canada's Leyl...   \n",
       "1  Tennis: De Groot claims first wheelchair golde...   \n",
       "2  Daniil Medvedev ends Novak Djokovic's bid for ...   \n",
       "3  It's official: Virat Kohli to quit as India's ...   \n",
       "4  Tokyo Olympics silver medallist Ravi Kumar Dah...   \n",
       "\n",
       "                                              ada_02  \n",
       "0  [-0.020307641476392746, -0.008113071322441101,...  \n",
       "1  [-0.001497726421803236, -0.01388695277273655, ...  \n",
       "2  [-0.02074730210006237, -0.007831976749002934, ...  \n",
       "3  [-0.01351586077362299, -0.008026225492358208, ...  \n",
       "4  [-0.007898214273154736, 0.004959497135132551, ...  "
      ]
     },
     "execution_count": 10,
     "metadata": {},
     "output_type": "execute_result"
    }
   ],
   "source": [
    "df_news.head()"
   ]
  },
  {
   "cell_type": "markdown",
   "id": "8622bfb2",
   "metadata": {},
   "source": [
    "##### <font color=brown><b>embed the search query "
   ]
  },
  {
   "cell_type": "code",
   "execution_count": 11,
   "id": "059f484c",
   "metadata": {},
   "outputs": [
    {
     "data": {
      "text/html": [
       "<div>\n",
       "<style scoped>\n",
       "    .dataframe tbody tr th:only-of-type {\n",
       "        vertical-align: middle;\n",
       "    }\n",
       "\n",
       "    .dataframe tbody tr th {\n",
       "        vertical-align: top;\n",
       "    }\n",
       "\n",
       "    .dataframe thead th {\n",
       "        text-align: right;\n",
       "    }\n",
       "</style>\n",
       "<table border=\"1\" class=\"dataframe\">\n",
       "  <thead>\n",
       "    <tr style=\"text-align: right;\">\n",
       "      <th></th>\n",
       "      <th>publish_date</th>\n",
       "      <th>headline_category</th>\n",
       "      <th>headline_text</th>\n",
       "      <th>ada_02</th>\n",
       "      <th>similarities</th>\n",
       "    </tr>\n",
       "  </thead>\n",
       "  <tbody>\n",
       "    <tr>\n",
       "      <th>23</th>\n",
       "      <td>20210920</td>\n",
       "      <td>sports.cricket.ipl</td>\n",
       "      <td>IPL 2021: RCB eye winning start against KKR</td>\n",
       "      <td>[-0.008443213067948818, -0.007287687622010708,...</td>\n",
       "      <td>0.870999</td>\n",
       "    </tr>\n",
       "    <tr>\n",
       "      <th>45</th>\n",
       "      <td>20211016</td>\n",
       "      <td>sports.cricket.ipl</td>\n",
       "      <td>IPL 2021: Extremely proud of the fight we have...</td>\n",
       "      <td>[-0.009363598190248013, -0.021790429949760437,...</td>\n",
       "      <td>0.843397</td>\n",
       "    </tr>\n",
       "    <tr>\n",
       "      <th>25</th>\n",
       "      <td>20210922</td>\n",
       "      <td>sports.cricket.ipl</td>\n",
       "      <td>Punjab Kings vs Rajasthan Royals Highlights: K...</td>\n",
       "      <td>[-0.00900831539183855, 0.0027412332128733397, ...</td>\n",
       "      <td>0.841662</td>\n",
       "    </tr>\n",
       "    <tr>\n",
       "      <th>62</th>\n",
       "      <td>20211105</td>\n",
       "      <td>sports.cricket.news</td>\n",
       "      <td>Syed Mushtaq Ali T20: Pandey Nair propel Karna...</td>\n",
       "      <td>[-0.0023069882299751043, -0.005675294436514378...</td>\n",
       "      <td>0.839916</td>\n",
       "    </tr>\n",
       "  </tbody>\n",
       "</table>\n",
       "</div>"
      ],
      "text/plain": [
       "    publish_date    headline_category  \\\n",
       "23      20210920   sports.cricket.ipl   \n",
       "45      20211016   sports.cricket.ipl   \n",
       "25      20210922   sports.cricket.ipl   \n",
       "62      20211105  sports.cricket.news   \n",
       "\n",
       "                                        headline_text  \\\n",
       "23        IPL 2021: RCB eye winning start against KKR   \n",
       "45  IPL 2021: Extremely proud of the fight we have...   \n",
       "25  Punjab Kings vs Rajasthan Royals Highlights: K...   \n",
       "62  Syed Mushtaq Ali T20: Pandey Nair propel Karna...   \n",
       "\n",
       "                                               ada_02  similarities  \n",
       "23  [-0.008443213067948818, -0.007287687622010708,...      0.870999  \n",
       "45  [-0.009363598190248013, -0.021790429949760437,...      0.843397  \n",
       "25  [-0.00900831539183855, 0.0027412332128733397, ...      0.841662  \n",
       "62  [-0.0023069882299751043, -0.005675294436514378...      0.839916  "
      ]
     },
     "metadata": {},
     "output_type": "display_data"
    }
   ],
   "source": [
    "# search through the reviews for a specific product\n",
    "def search_docs(df, user_query, top_n=3, to_print=True):\n",
    "    embedding = get_embedding(\n",
    "        user_query,\n",
    "        engine=\"Embedding_Model1\" # engine should be set to the deployment name you chose when you deployed the text-embedding-ada-002 (Version 2) model\n",
    "    )\n",
    "    df[\"similarities\"] = df.ada_02.apply(lambda x: cosine_similarity(x, embedding))\n",
    "\n",
    "    res = (\n",
    "        df.sort_values(\"similarities\", ascending=False)\n",
    "        .head(top_n)\n",
    "    )\n",
    "    if to_print:\n",
    "        display(res)\n",
    "    return res\n",
    "\n",
    "\n",
    "res = search_docs(df_news, \"Roy,Rana lead KKR charge\", top_n=4)"
   ]
  },
  {
   "cell_type": "code",
   "execution_count": 12,
   "id": "de248436",
   "metadata": {},
   "outputs": [
    {
     "data": {
      "text/plain": [
       "'IPL 2021: RCB eye winning start against KKR'"
      ]
     },
     "execution_count": 12,
     "metadata": {},
     "output_type": "execute_result"
    }
   ],
   "source": [
    "res[\"headline_text\"][23]"
   ]
  },
  {
   "cell_type": "code",
   "execution_count": 13,
   "id": "23dd618d",
   "metadata": {},
   "outputs": [
    {
     "data": {
      "text/html": [
       "<div>\n",
       "<style scoped>\n",
       "    .dataframe tbody tr th:only-of-type {\n",
       "        vertical-align: middle;\n",
       "    }\n",
       "\n",
       "    .dataframe tbody tr th {\n",
       "        vertical-align: top;\n",
       "    }\n",
       "\n",
       "    .dataframe thead th {\n",
       "        text-align: right;\n",
       "    }\n",
       "</style>\n",
       "<table border=\"1\" class=\"dataframe\">\n",
       "  <thead>\n",
       "    <tr style=\"text-align: right;\">\n",
       "      <th></th>\n",
       "      <th>publish_date</th>\n",
       "      <th>headline_category</th>\n",
       "      <th>headline_text</th>\n",
       "      <th>ada_02</th>\n",
       "      <th>similarities</th>\n",
       "    </tr>\n",
       "  </thead>\n",
       "  <tbody>\n",
       "    <tr>\n",
       "      <th>3</th>\n",
       "      <td>20210917</td>\n",
       "      <td>sports.cricket.icc-mens-t20-world-cup</td>\n",
       "      <td>It's official: Virat Kohli to quit as India's ...</td>\n",
       "      <td>[-0.01351586077362299, -0.008026225492358208, ...</td>\n",
       "      <td>0.826632</td>\n",
       "    </tr>\n",
       "    <tr>\n",
       "      <th>149</th>\n",
       "      <td>20211107</td>\n",
       "      <td>sports.cricket.ipl</td>\n",
       "      <td>IPL 2022: Ravi Shastri likely to sign up as co...</td>\n",
       "      <td>[-0.005485007539391518, -0.01737249083817005, ...</td>\n",
       "      <td>0.817014</td>\n",
       "    </tr>\n",
       "    <tr>\n",
       "      <th>156</th>\n",
       "      <td>20211108</td>\n",
       "      <td>sports.cricket.icc-mens-t20-world-cup</td>\n",
       "      <td>Knocked out of T20 World Cup time for India to...</td>\n",
       "      <td>[0.0075756218284368515, -0.028075959533452988,...</td>\n",
       "      <td>0.815666</td>\n",
       "    </tr>\n",
       "    <tr>\n",
       "      <th>56</th>\n",
       "      <td>20211104</td>\n",
       "      <td>sports.cricket.new-zealand-in-india</td>\n",
       "      <td>It's official: Rahul Dravid is next Team India...</td>\n",
       "      <td>[-0.02562318556010723, -0.006006864830851555, ...</td>\n",
       "      <td>0.814282</td>\n",
       "    </tr>\n",
       "  </tbody>\n",
       "</table>\n",
       "</div>"
      ],
      "text/plain": [
       "     publish_date                      headline_category  \\\n",
       "3        20210917  sports.cricket.icc-mens-t20-world-cup   \n",
       "149      20211107                     sports.cricket.ipl   \n",
       "156      20211108  sports.cricket.icc-mens-t20-world-cup   \n",
       "56       20211104    sports.cricket.new-zealand-in-india   \n",
       "\n",
       "                                         headline_text  \\\n",
       "3    It's official: Virat Kohli to quit as India's ...   \n",
       "149  IPL 2022: Ravi Shastri likely to sign up as co...   \n",
       "156  Knocked out of T20 World Cup time for India to...   \n",
       "56   It's official: Rahul Dravid is next Team India...   \n",
       "\n",
       "                                                ada_02  similarities  \n",
       "3    [-0.01351586077362299, -0.008026225492358208, ...      0.826632  \n",
       "149  [-0.005485007539391518, -0.01737249083817005, ...      0.817014  \n",
       "156  [0.0075756218284368515, -0.028075959533452988,...      0.815666  \n",
       "56   [-0.02562318556010723, -0.006006864830851555, ...      0.814282  "
      ]
     },
     "metadata": {},
     "output_type": "display_data"
    }
   ],
   "source": [
    "res = search_docs(df_news, \"Delhi Capitals Name Priyam Garg As Replacement For Kamlesh Nagarkoti\", top_n=4)"
   ]
  },
  {
   "cell_type": "markdown",
   "id": "aa6e9635",
   "metadata": {},
   "source": [
    "#### <font color=Brown> <b> Interpretation \n",
    "The top result from document search based on user query against the entire knowledge base. This returns the top result of the \"sports.football.epl\". This document has a cosine similarity score of 0.86 between the query and the document:"
   ]
  },
  {
   "cell_type": "code",
   "execution_count": null,
   "id": "9fbd4029",
   "metadata": {},
   "outputs": [],
   "source": []
  }
 ],
 "metadata": {
  "kernelspec": {
   "display_name": "Python 3",
   "language": "python",
   "name": "python3"
  },
  "language_info": {
   "codemirror_mode": {
    "name": "ipython",
    "version": 3
   },
   "file_extension": ".py",
   "mimetype": "text/x-python",
   "name": "python",
   "nbconvert_exporter": "python",
   "pygments_lexer": "ipython3",
   "version": "3.8.8"
  }
 },
 "nbformat": 4,
 "nbformat_minor": 5
}
