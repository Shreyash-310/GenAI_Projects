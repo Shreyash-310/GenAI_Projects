{
 "cells": [
  {
   "cell_type": "code",
   "execution_count": 1,
   "id": "f86e60da",
   "metadata": {},
   "outputs": [],
   "source": [
    "import warnings\n",
    "# Settings the warnings to be ignored\n",
    "warnings.filterwarnings('ignore')"
   ]
  },
  {
   "cell_type": "code",
   "execution_count": 2,
   "id": "6c0b258d",
   "metadata": {},
   "outputs": [],
   "source": [
    "import openai\n",
    "# load and set our key\n",
    "openai.api_key = open(\"key.txt\", \"r\").read().strip(\"\\n\")"
   ]
  },
  {
   "cell_type": "code",
   "execution_count": 3,
   "id": "4e4348a4",
   "metadata": {},
   "outputs": [],
   "source": [
    "# imports libraries\n",
    "import pandas as pd\n",
    "import tiktoken\n",
    "from openai.embeddings_utils import get_embedding"
   ]
  },
  {
   "cell_type": "code",
   "execution_count": 4,
   "id": "d994e080",
   "metadata": {},
   "outputs": [],
   "source": [
    "# embedding model parameters\n",
    "embedding_model = \"text-embedding-ada-002\"\n",
    "embedding_encoding = \"cl100k_base\"  # this is the encoding for text-embedding-ada-002\n",
    "max_tokens = 8000  # the maximum for text-embedding-ada-002 is 8191"
   ]
  },
  {
   "cell_type": "code",
   "execution_count": 5,
   "id": "6bea1191",
   "metadata": {},
   "outputs": [
    {
     "data": {
      "text/html": [
       "<div>\n",
       "<style scoped>\n",
       "    .dataframe tbody tr th:only-of-type {\n",
       "        vertical-align: middle;\n",
       "    }\n",
       "\n",
       "    .dataframe tbody tr th {\n",
       "        vertical-align: top;\n",
       "    }\n",
       "\n",
       "    .dataframe thead th {\n",
       "        text-align: right;\n",
       "    }\n",
       "</style>\n",
       "<table border=\"1\" class=\"dataframe\">\n",
       "  <thead>\n",
       "    <tr style=\"text-align: right;\">\n",
       "      <th></th>\n",
       "      <th>Title</th>\n",
       "      <th>File</th>\n",
       "      <th>Code Changes</th>\n",
       "      <th>Comment by Developer A</th>\n",
       "      <th>Comment by Developer B</th>\n",
       "      <th>Label</th>\n",
       "      <th>combined</th>\n",
       "    </tr>\n",
       "    <tr>\n",
       "      <th>Code Review</th>\n",
       "      <th></th>\n",
       "      <th></th>\n",
       "      <th></th>\n",
       "      <th></th>\n",
       "      <th></th>\n",
       "      <th></th>\n",
       "      <th></th>\n",
       "    </tr>\n",
       "  </thead>\n",
       "  <tbody>\n",
       "    <tr>\n",
       "      <th>CR123</th>\n",
       "      <td>Bug Fix in Authentication Module</td>\n",
       "      <td>auth_utils.py</td>\n",
       "      <td>Fixed a bug in the authentication logic      ...</td>\n",
       "      <td>Looks good to me!</td>\n",
       "      <td>I agree, the fix seems correct.</td>\n",
       "      <td>Normal</td>\n",
       "      <td>Looks good to me!I agree, the fix seems correct.</td>\n",
       "    </tr>\n",
       "    <tr>\n",
       "      <th>CR124</th>\n",
       "      <td>Feature Enhancement: User Profile Image Upload</td>\n",
       "      <td>user_profile.py</td>\n",
       "      <td>Added functionality to upload profile images ...</td>\n",
       "      <td>Nice addition!</td>\n",
       "      <td>This will improve user experience.</td>\n",
       "      <td>Normal</td>\n",
       "      <td>Nice addition!This will improve user experience.</td>\n",
       "    </tr>\n",
       "    <tr>\n",
       "      <th>CR125</th>\n",
       "      <td>Refactoring: Database Connections</td>\n",
       "      <td>database.py</td>\n",
       "      <td>Reorganized database connection code for bett...</td>\n",
       "      <td>Clean and organized!</td>\n",
       "      <td>Makes the code easier to understand.</td>\n",
       "      <td>Normal</td>\n",
       "      <td>Clean and organized!Makes the code easier to u...</td>\n",
       "    </tr>\n",
       "    <tr>\n",
       "      <th>CR126</th>\n",
       "      <td>API Endpoint Bug Fix</td>\n",
       "      <td>api_endpoints.py</td>\n",
       "      <td>Fixed a bug causing incorrect response in API...</td>\n",
       "      <td>Bug squashed!</td>\n",
       "      <td>Good catch, thank you.</td>\n",
       "      <td>Normal</td>\n",
       "      <td>Bug squashed!Good catch, thank you.</td>\n",
       "    </tr>\n",
       "    <tr>\n",
       "      <th>CR127</th>\n",
       "      <td>Performance Optimization: Cache Implementation</td>\n",
       "      <td>caching.py</td>\n",
       "      <td>Implemented caching mechanism for improved pe...</td>\n",
       "      <td>Performance boost!</td>\n",
       "      <td>Cache will speed up responses.</td>\n",
       "      <td>Normal</td>\n",
       "      <td>Performance boost!Cache will speed up responses.</td>\n",
       "    </tr>\n",
       "  </tbody>\n",
       "</table>\n",
       "</div>"
      ],
      "text/plain": [
       "                    Title                                        \\\n",
       " Code Review                                                      \n",
       "CR123               Bug Fix in Authentication Module              \n",
       "CR124           Feature Enhancement: User Profile Image Upload    \n",
       "CR125               Refactoring: Database Connections             \n",
       "CR126               API Endpoint Bug Fix                          \n",
       "CR127           Performance Optimization: Cache Implementation    \n",
       "\n",
       "                 File              \\\n",
       " Code Review                        \n",
       "CR123            auth_utils.py      \n",
       "CR124            user_profile.py    \n",
       "CR125            database.py        \n",
       "CR126           api_endpoints.py    \n",
       "CR127            caching.py         \n",
       "\n",
       "              Code Changes                                              \\\n",
       " Code Review                                                             \n",
       "CR123           Fixed a bug in the authentication logic      ...         \n",
       "CR124           Added functionality to upload profile images ...         \n",
       "CR125           Reorganized database connection code for bett...         \n",
       "CR126           Fixed a bug causing incorrect response in API...         \n",
       "CR127           Implemented caching mechanism for improved pe...         \n",
       "\n",
       "                 Comment by Developer A  \\\n",
       " Code Review                              \n",
       "CR123            Looks good to me!        \n",
       "CR124            Nice addition!           \n",
       "CR125           Clean and organized!      \n",
       "CR126            Bug squashed!            \n",
       "CR127            Performance boost!       \n",
       "\n",
       "                               Comment by Developer B      Label  \\\n",
       " Code Review                                                       \n",
       "CR123                I agree, the fix seems correct.    Normal     \n",
       "CR124             This will improve user experience.    Normal     \n",
       "CR125           Makes the code easier to understand.    Normal     \n",
       "CR126                         Good catch, thank you.    Normal     \n",
       "CR127                 Cache will speed up responses.    Normal     \n",
       "\n",
       "                                                        combined  \n",
       " Code Review                                                      \n",
       "CR123           Looks good to me!I agree, the fix seems correct.  \n",
       "CR124           Nice addition!This will improve user experience.  \n",
       "CR125          Clean and organized!Makes the code easier to u...  \n",
       "CR126                        Bug squashed!Good catch, thank you.  \n",
       "CR127           Performance boost!Cache will speed up responses.  "
      ]
     },
     "execution_count": 5,
     "metadata": {},
     "output_type": "execute_result"
    }
   ],
   "source": [
    "# load & inspect dataset\n",
    "input_datapath = \"Code_Review.csv\"  # to save space, provide a pre-filtered dataset\n",
    "Code_df = pd.read_csv(input_datapath, index_col=0)\n",
    "Code_df = Code_df.dropna()\n",
    "Code_df[\"combined\"] = (Code_df['Comment by Developer A'].str.strip() + Code_df['Comment by Developer B'].str.strip())\n",
    "Code_df.head()"
   ]
  },
  {
   "cell_type": "code",
   "execution_count": 6,
   "id": "74ec8efd",
   "metadata": {},
   "outputs": [
    {
     "data": {
      "text/plain": [
       "200"
      ]
     },
     "execution_count": 6,
     "metadata": {},
     "output_type": "execute_result"
    }
   ],
   "source": [
    "encoding = tiktoken.get_encoding(embedding_encoding)\n",
    "# omit reviews that are too long to embed\n",
    "Code_df[\"n_tokens\"] = Code_df.combined.apply(lambda x: len(encoding.encode(x)))\n",
    "Code_df = Code_df[Code_df.n_tokens <= max_tokens]\n",
    "len(Code_df)"
   ]
  },
  {
   "cell_type": "code",
   "execution_count": 7,
   "id": "0ca97ea3",
   "metadata": {},
   "outputs": [],
   "source": [
    "Code_df[\"embedding\"] = Code_df.combined.apply(lambda x: get_embedding(x, engine=embedding_model))\n",
    "Code_df.to_csv(\"code_reviews_with_embeddings_.csv\")"
   ]
  },
  {
   "cell_type": "markdown",
   "id": "4e0e19a9",
   "metadata": {},
   "source": [
    "### <font color='blue'> Zero-Shot Classification"
   ]
  },
  {
   "cell_type": "markdown",
   "id": "12c9232c",
   "metadata": {},
   "source": [
    "<font color='purple'>To predict labels of samples without any training embed short descriptions of each label, such as Normal and anamoly, and then compare the cosine distance between embeddings of samples and label descriptions. The highest similarity label to the sample input is the predicted label"
   ]
  },
  {
   "cell_type": "code",
   "execution_count": 8,
   "id": "fca97bd7",
   "metadata": {},
   "outputs": [],
   "source": [
    "import pandas as pd\n",
    "import numpy as np\n",
    "from sklearn.model_selection import train_test_split\n",
    "from sklearn.linear_model import LogisticRegression\n",
    "from openai.embeddings_utils import get_embedding\n",
    "from sklearn.preprocessing import LabelEncoder\n",
    "\n",
    "# Load the embeddings CSV file\n",
    "embedding_datapath = \"code_reviews_with_embeddings_.csv\"\n",
    "embeddings_df = pd.read_csv(embedding_datapath, index_col=0)\n",
    "\n",
    "# Load your dataset and split it into features (X) and labels (y)\n",
    "# features are 'embedding' and labels are 'Label'\n",
    "X = embeddings_df['embedding'].apply(eval).tolist() \n",
    "y = embeddings_df['Label']\n",
    "\n",
    "# Convert string labels to numerical labels\n",
    "label_encoder = LabelEncoder()\n",
    "y = label_encoder.fit_transform(y)\n",
    "\n",
    "# Split the dataset into training and testing sets\n",
    "X_train, X_test, y_train, y_test = train_test_split(X, y, test_size=0.2, random_state=42)\n"
   ]
  },
  {
   "cell_type": "code",
   "execution_count": 9,
   "id": "4cabec49",
   "metadata": {},
   "outputs": [
    {
     "name": "stdout",
     "output_type": "stream",
     "text": [
      "Anomaly Detected!\n"
     ]
    }
   ],
   "source": [
    "from sklearn.ensemble import IsolationForest\n",
    "# Train the Isolation Forest model\n",
    "clf = IsolationForest(contamination=0.05, random_state=42)\n",
    "clf.fit(X_train)\n",
    "\n",
    "# Define a function to predict anomalies\n",
    "def predict_anomaly_score(embedding):\n",
    "    anomaly_score = clf.decision_function([embedding])[0]\n",
    "    return anomaly_score\n",
    "\n",
    "# Example usage\n",
    "user_combined_review = \"This code change breaks the entire application functionality.\"\n",
    "user_embedding = get_embedding(user_combined_review, engine=embedding_model)\n",
    "user_anomaly_score = predict_anomaly_score(user_embedding)\n",
    "\n",
    "if user_anomaly_score < 0:\n",
    "    print(\"Anomaly Detected!\")\n",
    "else:\n",
    "    print(\"Normal\")"
   ]
  },
  {
   "cell_type": "markdown",
   "id": "83557468",
   "metadata": {},
   "source": [
    "### <font color='blue'> With Gradio Interface"
   ]
  },
  {
   "cell_type": "code",
   "execution_count": 10,
   "id": "43e4dc17",
   "metadata": {},
   "outputs": [
    {
     "name": "stdout",
     "output_type": "stream",
     "text": [
      "Running on local URL:  http://127.0.0.1:7860\n",
      "\n",
      "To create a public link, set `share=True` in `launch()`.\n"
     ]
    },
    {
     "data": {
      "text/html": [
       "<div><iframe src=\"http://127.0.0.1:7860/\" width=\"100%\" height=\"500\" allow=\"autoplay; camera; microphone; clipboard-read; clipboard-write;\" frameborder=\"0\" allowfullscreen></iframe></div>"
      ],
      "text/plain": [
       "<IPython.core.display.HTML object>"
      ]
     },
     "metadata": {},
     "output_type": "display_data"
    },
    {
     "data": {
      "text/plain": []
     },
     "execution_count": 10,
     "metadata": {},
     "output_type": "execute_result"
    }
   ],
   "source": [
    "import gradio as gr\n",
    "import numpy as np\n",
    "import pandas as pd\n",
    "from sklearn.ensemble import IsolationForest\n",
    "from openai.embeddings_utils import get_embedding\n",
    "\n",
    "# Load the embeddings CSV file\n",
    "embedding_datapath = \"code_reviews_with_embeddings_.csv\"\n",
    "embeddings_df = pd.read_csv(embedding_datapath, index_col=0)\n",
    "\n",
    "# Load your dataset and features (X), assuming 'embedding' is the feature column\n",
    "X = embeddings_df['embedding'].apply(eval).tolist()\n",
    "\n",
    "# Train the Isolation Forest model\n",
    "clf = IsolationForest(contamination=0.05, random_state=42)\n",
    "clf.fit(X)\n",
    "\n",
    "def predict_anomaly_score(embedding):\n",
    "    anomaly_score = clf.decision_function([embedding])[0]\n",
    "    return anomaly_score\n",
    "\n",
    "def anomaly_detection(review):\n",
    "    embedding = get_embedding(review, engine=embedding_model)\n",
    "    anomaly_score = predict_anomaly_score(embedding)\n",
    "    \n",
    "    if anomaly_score < 0:\n",
    "        result = \"Anomaly Detected!\"\n",
    "    else:\n",
    "        result = \"Normal\"\n",
    "    return result\n",
    "\n",
    "iface = gr.Interface(\n",
    "    fn=anomaly_detection,\n",
    "    inputs=gr.inputs.Textbox(lines=2, label=\"Enter Combined Review\"),\n",
    "    outputs=gr.outputs.Textbox(label=\"Review Status\"))\n",
    "\n",
    "iface.launch()\n"
   ]
  },
  {
   "cell_type": "code",
   "execution_count": null,
   "id": "d4a3dafe",
   "metadata": {},
   "outputs": [],
   "source": []
  }
 ],
 "metadata": {
  "kernelspec": {
   "display_name": "Python 3",
   "language": "python",
   "name": "python3"
  },
  "language_info": {
   "codemirror_mode": {
    "name": "ipython",
    "version": 3
   },
   "file_extension": ".py",
   "mimetype": "text/x-python",
   "name": "python",
   "nbconvert_exporter": "python",
   "pygments_lexer": "ipython3",
   "version": "3.8.8"
  }
 },
 "nbformat": 4,
 "nbformat_minor": 5
}
